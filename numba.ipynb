{
 "cells": [
  {
   "cell_type": "code",
   "execution_count": 1,
   "metadata": {},
   "outputs": [
    {
     "name": "stdout",
     "output_type": "stream",
     "text": [
      "0.61.2\n"
     ]
    }
   ],
   "source": [
    "# https://numba.pydata.org/numba-doc/0.13/tutorial_firststeps.html\n",
    "\n",
    "import numba\n",
    "\n",
    "print(numba.__version__)"
   ]
  },
  {
   "cell_type": "code",
   "execution_count": 3,
   "metadata": {},
   "outputs": [],
   "source": [
    "def bubblesort(X):\n",
    "    N = len(X)\n",
    "    for end in range(N, 1, -1):\n",
    "        for i in range(end - 1):\n",
    "            cur = X[i]\n",
    "            if cur > X[i + 1]:\n",
    "                tmp = X[i]\n",
    "                X[i] = X[i + 1]\n",
    "                X[i + 1] = tmp"
   ]
  },
  {
   "cell_type": "code",
   "execution_count": 2,
   "metadata": {},
   "outputs": [],
   "source": [
    "import numpy as np\n",
    "\n",
    "original = np.arange(0.0, 10.0, 0.01, dtype=\"f4\")\n",
    "shuffled = original.copy()\n",
    "np.random.shuffle(shuffled)"
   ]
  },
  {
   "cell_type": "code",
   "execution_count": 7,
   "metadata": {},
   "outputs": [
    {
     "name": "stdout",
     "output_type": "stream",
     "text": [
      "True\n"
     ]
    }
   ],
   "source": [
    "sorted_ = shuffled.copy()\n",
    "bubblesort(sorted_)\n",
    "print(np.array_equal(sorted_, original))"
   ]
  },
  {
   "cell_type": "code",
   "execution_count": 8,
   "metadata": {},
   "outputs": [
    {
     "name": "stdout",
     "output_type": "stream",
     "text": [
      "140 ms ± 986 μs per loop (mean ± std. dev. of 7 runs, 10 loops each)\n"
     ]
    }
   ],
   "source": [
    "sorted_[:] = shuffled[:]\n",
    "%timeit sorted_[:] = shuffled[:]; bubblesort(sorted_)"
   ]
  },
  {
   "cell_type": "code",
   "execution_count": 9,
   "metadata": {},
   "outputs": [
    {
     "name": "stdout",
     "output_type": "stream",
     "text": [
      "408 ns ± 3.03 ns per loop (mean ± std. dev. of 7 runs, 1,000,000 loops each)\n"
     ]
    }
   ],
   "source": [
    "%timeit sorted_[:] = shuffled[:]\n"
   ]
  },
  {
   "cell_type": "code",
   "execution_count": 10,
   "metadata": {},
   "outputs": [
    {
     "name": "stdout",
     "output_type": "stream",
     "text": [
      "\n",
      "This decorator is used to compile a Python function into native code.\n",
      "\n",
      "Args\n",
      "-----\n",
      "signature_or_function:\n",
      "    The (optional) signature or list of signatures to be compiled.\n",
      "    If not passed, required signatures will be compiled when the\n",
      "    decorated function is called, depending on the argument values.\n",
      "    As a convenience, you can directly pass the function to be compiled\n",
      "    instead.\n",
      "\n",
      "locals: dict\n",
      "    Mapping of local variable names to Numba types. Used to override the\n",
      "    types deduced by Numba's type inference engine.\n",
      "\n",
      "pipeline_class: type numba.compiler.CompilerBase\n",
      "        The compiler pipeline type for customizing the compilation stages.\n",
      "\n",
      "options:\n",
      "    For a cpu target, valid options are:\n",
      "        nopython: bool\n",
      "            Set to True to disable the use of PyObjects and Python API\n",
      "            calls. The default behavior is to allow the use of PyObjects\n",
      "            and Python API. Default value is True.\n",
      "\n",
      "        forceobj: bool\n",
      "            Set to True to force the use of PyObjects for every value.\n",
      "            Default value is False.\n",
      "\n",
      "        looplift: bool\n",
      "            Set to True to enable jitting loops in nopython mode while\n",
      "            leaving surrounding code in object mode. This allows functions\n",
      "            to allocate NumPy arrays and use Python objects, while the\n",
      "            tight loops in the function can still be compiled in nopython\n",
      "            mode. Any arrays that the tight loop uses should be created\n",
      "            before the loop is entered. Default value is True.\n",
      "\n",
      "        error_model: str\n",
      "            The error-model affects divide-by-zero behavior.\n",
      "            Valid values are 'python' and 'numpy'. The 'python' model\n",
      "            raises exception.  The 'numpy' model sets the result to\n",
      "            *+/-inf* or *nan*. Default value is 'python'.\n",
      "\n",
      "        inline: str or callable\n",
      "            The inline option will determine whether a function is inlined\n",
      "            at into its caller if called. String options are 'never'\n",
      "            (default) which will never inline, and 'always', which will\n",
      "            always inline. If a callable is provided it will be called with\n",
      "            the call expression node that is requesting inlining, the\n",
      "            caller's IR and callee's IR as arguments, it is expected to\n",
      "            return Truthy as to whether to inline.\n",
      "            NOTE: This inlining is performed at the Numba IR level and is in\n",
      "            no way related to LLVM inlining.\n",
      "\n",
      "        boundscheck: bool or None\n",
      "            Set to True to enable bounds checking for array indices. Out\n",
      "            of bounds accesses will raise IndexError. The default is to\n",
      "            not do bounds checking. If False, bounds checking is disabled,\n",
      "            out of bounds accesses can produce garbage results or segfaults.\n",
      "            However, enabling bounds checking will slow down typical\n",
      "            functions, so it is recommended to only use this flag for\n",
      "            debugging. You can also set the NUMBA_BOUNDSCHECK environment\n",
      "            variable to 0 or 1 to globally override this flag. The default\n",
      "            value is None, which under normal execution equates to False,\n",
      "            but if debug is set to True then bounds checking will be\n",
      "            enabled.\n",
      "\n",
      "Returns\n",
      "--------\n",
      "A callable usable as a compiled function.  Actual compiling will be\n",
      "done lazily if no explicit signatures are passed.\n",
      "\n",
      "Examples\n",
      "--------\n",
      "The function can be used in the following ways:\n",
      "\n",
      "1) jit(signatures, **targetoptions) -> jit(function)\n",
      "\n",
      "    Equivalent to:\n",
      "\n",
      "        d = dispatcher(function, targetoptions)\n",
      "        for signature in signatures:\n",
      "            d.compile(signature)\n",
      "\n",
      "    Create a dispatcher object for a python function.  Then, compile\n",
      "    the function with the given signature(s).\n",
      "\n",
      "    Example:\n",
      "\n",
      "        @jit(\"int32(int32, int32)\")\n",
      "        def foo(x, y):\n",
      "            return x + y\n",
      "\n",
      "        @jit([\"int32(int32, int32)\", \"float32(float32, float32)\"])\n",
      "        def bar(x, y):\n",
      "            return x + y\n",
      "\n",
      "2) jit(function, **targetoptions) -> dispatcher\n",
      "\n",
      "    Create a dispatcher function object that specializes at call site.\n",
      "\n",
      "    Examples:\n",
      "\n",
      "        @jit\n",
      "        def foo(x, y):\n",
      "            return x + y\n",
      "\n",
      "        @jit(nopython=True)\n",
      "        def bar(x, y):\n",
      "            return x + y\n",
      "\n",
      "\n"
     ]
    }
   ],
   "source": [
    "print(numba.jit.__doc__)"
   ]
  },
  {
   "cell_type": "code",
   "execution_count": 11,
   "metadata": {},
   "outputs": [
    {
     "name": "stderr",
     "output_type": "stream",
     "text": [
      "/Users/cweill/Dropbox/PythonProjects/numba-tutorial/.venv/lib/python3.13/site-packages/numba/cpython/old_hashing.py:477: UserWarning: FNV hashing is not implemented in Numba. See PEP 456 https://www.python.org/dev/peps/pep-0456/ for rationale over not using FNV. Numba will continue to work, but hashes for built in types will be computed using siphash24. This will permit e.g. dictionaries to continue to behave as expected, however anything relying on the value of the hash opposed to hash as a derived property is likely to not work as expected.\n",
      "  warnings.warn(msg)\n"
     ]
    }
   ],
   "source": [
    "bubblesort_jit = numba.jit(\"void(f4[:])\")(bubblesort)"
   ]
  },
  {
   "cell_type": "code",
   "execution_count": 12,
   "metadata": {},
   "outputs": [
    {
     "name": "stdout",
     "output_type": "stream",
     "text": [
      "True\n"
     ]
    }
   ],
   "source": [
    "sorted_[:] = shuffled[:]  # reset to shuffled before sorting\n",
    "bubblesort_jit(sorted_)\n",
    "print(np.array_equal(sorted_, original))"
   ]
  },
  {
   "cell_type": "code",
   "execution_count": 13,
   "metadata": {},
   "outputs": [
    {
     "name": "stdout",
     "output_type": "stream",
     "text": [
      "448 μs ± 7.57 μs per loop (mean ± std. dev. of 7 runs, 1,000 loops each)\n"
     ]
    }
   ],
   "source": [
    "%timeit sorted_[:] = shuffled[:]; bubblesort_jit(sorted_)\n"
   ]
  },
  {
   "cell_type": "code",
   "execution_count": 14,
   "metadata": {},
   "outputs": [
    {
     "name": "stdout",
     "output_type": "stream",
     "text": [
      "128 ms ± 1.7 ms per loop (mean ± std. dev. of 7 runs, 10 loops each)\n"
     ]
    }
   ],
   "source": [
    "%timeit sorted_[:] = shuffled[:]; bubblesort(sorted_)"
   ]
  }
 ],
 "metadata": {
  "kernelspec": {
   "display_name": ".venv",
   "language": "python",
   "name": "python3"
  },
  "language_info": {
   "codemirror_mode": {
    "name": "ipython",
    "version": 3
   },
   "file_extension": ".py",
   "mimetype": "text/x-python",
   "name": "python",
   "nbconvert_exporter": "python",
   "pygments_lexer": "ipython3",
   "version": "3.13.3"
  }
 },
 "nbformat": 4,
 "nbformat_minor": 2
}
