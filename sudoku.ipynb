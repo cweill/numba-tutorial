{
 "cells": [
  {
   "cell_type": "code",
   "execution_count": 1,
   "id": "334f467b",
   "metadata": {},
   "outputs": [],
   "source": [
    "%load_ext autoreload\n",
    "%autoreload 2"
   ]
  },
  {
   "cell_type": "code",
   "execution_count": null,
   "id": "9a02f5ab",
   "metadata": {},
   "outputs": [],
   "source": [
    "from sudoku import (\n",
    "    solveSudokuBitwise,\n",
    "    solveSudoku,\n",
    "    solveSudokuOptimized,\n",
    "    solveSudokuUltraOptimized,\n",
    "    solveSudokuUltraOptimized2,\n",
    ")"
   ]
  },
  {
   "cell_type": "code",
   "execution_count": 3,
   "id": "0d8e3b89",
   "metadata": {},
   "outputs": [],
   "source": [
    "def generate_board():\n",
    "    return [\n",
    "        [0, 2, 0, 0, 9, 0, 1, 0, 0],\n",
    "        [0, 0, 7, 8, 0, 0, 0, 0, 0],\n",
    "        [0, 0, 0, 0, 0, 0, 3, 6, 0],\n",
    "        [0, 0, 1, 9, 0, 4, 0, 0, 0],\n",
    "        [0, 0, 0, 6, 0, 5, 0, 0, 7],\n",
    "        [8, 0, 0, 0, 0, 0, 0, 0, 9],\n",
    "        [0, 0, 0, 0, 2, 0, 0, 0, 0],\n",
    "        [7, 0, 0, 0, 0, 0, 0, 8, 5],\n",
    "        [4, 9, 0, 0, 3, 0, 0, 0, 0],\n",
    "    ]"
   ]
  },
  {
   "cell_type": "code",
   "execution_count": 4,
   "id": "326cda59",
   "metadata": {},
   "outputs": [
    {
     "data": {
      "text/plain": [
       "[[5, 2, 4, 3, 9, 6, 1, 7, 8],\n",
       " [3, 6, 7, 8, 4, 1, 9, 5, 2],\n",
       " [1, 8, 9, 7, 5, 2, 3, 6, 4],\n",
       " [2, 5, 1, 9, 7, 4, 8, 3, 6],\n",
       " [9, 4, 3, 6, 8, 5, 2, 1, 7],\n",
       " [8, 7, 6, 2, 1, 3, 5, 4, 9],\n",
       " [6, 1, 5, 4, 2, 8, 7, 9, 3],\n",
       " [7, 3, 2, 1, 6, 9, 4, 8, 5],\n",
       " [4, 9, 8, 5, 3, 7, 6, 2, 1]]"
      ]
     },
     "execution_count": 4,
     "metadata": {},
     "output_type": "execute_result"
    }
   ],
   "source": [
    "solveSudoku(generate_board())"
   ]
  },
  {
   "cell_type": "code",
   "execution_count": 5,
   "id": "5477b27d",
   "metadata": {},
   "outputs": [
    {
     "data": {
      "text/plain": [
       "[[5, 2, 4, 3, 9, 6, 1, 7, 8],\n",
       " [3, 6, 7, 8, 4, 1, 9, 5, 2],\n",
       " [1, 8, 9, 7, 5, 2, 3, 6, 4],\n",
       " [2, 5, 1, 9, 7, 4, 8, 3, 6],\n",
       " [9, 4, 3, 6, 8, 5, 2, 1, 7],\n",
       " [8, 7, 6, 2, 1, 3, 5, 4, 9],\n",
       " [6, 1, 5, 4, 2, 8, 7, 9, 3],\n",
       " [7, 3, 2, 1, 6, 9, 4, 8, 5],\n",
       " [4, 9, 8, 5, 3, 7, 6, 2, 1]]"
      ]
     },
     "execution_count": 5,
     "metadata": {},
     "output_type": "execute_result"
    }
   ],
   "source": [
    "solveSudokuBitwise(generate_board())"
   ]
  },
  {
   "cell_type": "code",
   "execution_count": 6,
   "id": "ac979d81",
   "metadata": {},
   "outputs": [
    {
     "data": {
      "text/plain": [
       "[[5, 2, 4, 3, 9, 6, 1, 7, 8],\n",
       " [3, 6, 7, 8, 4, 1, 9, 5, 2],\n",
       " [1, 8, 9, 7, 5, 2, 3, 6, 4],\n",
       " [2, 5, 1, 9, 7, 4, 8, 3, 6],\n",
       " [9, 4, 3, 6, 8, 5, 2, 1, 7],\n",
       " [8, 7, 6, 2, 1, 3, 5, 4, 9],\n",
       " [6, 1, 5, 4, 2, 8, 7, 9, 3],\n",
       " [7, 3, 2, 1, 6, 9, 4, 8, 5],\n",
       " [4, 9, 8, 5, 3, 7, 6, 2, 1]]"
      ]
     },
     "execution_count": 6,
     "metadata": {},
     "output_type": "execute_result"
    }
   ],
   "source": [
    "solveSudokuOptimized(generate_board())"
   ]
  },
  {
   "cell_type": "code",
   "execution_count": 7,
   "id": "966db5e5",
   "metadata": {},
   "outputs": [
    {
     "data": {
      "text/plain": [
       "[[5, 2, 4, 3, 9, 6, 1, 7, 8],\n",
       " [3, 6, 7, 8, 4, 1, 9, 5, 2],\n",
       " [1, 8, 9, 7, 5, 2, 3, 6, 4],\n",
       " [2, 5, 1, 9, 7, 4, 8, 3, 6],\n",
       " [9, 4, 3, 6, 8, 5, 2, 1, 7],\n",
       " [8, 7, 6, 2, 1, 3, 5, 4, 9],\n",
       " [6, 1, 5, 4, 2, 8, 7, 9, 3],\n",
       " [7, 3, 2, 1, 6, 9, 4, 8, 5],\n",
       " [4, 9, 8, 5, 3, 7, 6, 2, 1]]"
      ]
     },
     "execution_count": 7,
     "metadata": {},
     "output_type": "execute_result"
    }
   ],
   "source": [
    "solveSudokuUltraOptimized(generate_board())"
   ]
  },
  {
   "cell_type": "code",
   "execution_count": 12,
   "id": "03c5179a",
   "metadata": {},
   "outputs": [
    {
     "name": "stdout",
     "output_type": "stream",
     "text": [
      "49.1 ms ± 1.51 ms per loop (mean ± std. dev. of 7 runs, 10 loops each)\n"
     ]
    }
   ],
   "source": [
    "%timeit solveSudoku(generate_board())"
   ]
  },
  {
   "cell_type": "code",
   "execution_count": 13,
   "id": "9cee61fe",
   "metadata": {},
   "outputs": [
    {
     "name": "stdout",
     "output_type": "stream",
     "text": [
      "15 ms ± 305 μs per loop (mean ± std. dev. of 7 runs, 100 loops each)\n"
     ]
    }
   ],
   "source": [
    "%timeit solveSudokuBitwise(generate_board())"
   ]
  },
  {
   "cell_type": "code",
   "execution_count": 14,
   "id": "1abfad87",
   "metadata": {},
   "outputs": [
    {
     "name": "stdout",
     "output_type": "stream",
     "text": [
      "6.61 ms ± 167 μs per loop (mean ± std. dev. of 7 runs, 100 loops each)\n"
     ]
    }
   ],
   "source": [
    "%timeit solveSudokuOptimized(generate_board())"
   ]
  },
  {
   "cell_type": "code",
   "execution_count": 15,
   "id": "a6bc8cb5",
   "metadata": {},
   "outputs": [
    {
     "name": "stdout",
     "output_type": "stream",
     "text": [
      "6.25 ms ± 200 μs per loop (mean ± std. dev. of 7 runs, 100 loops each)\n"
     ]
    }
   ],
   "source": [
    "%timeit solveSudokuUltraOptimized(generate_board())"
   ]
  }
 ],
 "metadata": {
  "kernelspec": {
   "display_name": ".venv",
   "language": "python",
   "name": "python3"
  },
  "language_info": {
   "codemirror_mode": {
    "name": "ipython",
    "version": 3
   },
   "file_extension": ".py",
   "mimetype": "text/x-python",
   "name": "python",
   "nbconvert_exporter": "python",
   "pygments_lexer": "ipython3",
   "version": "3.13.3"
  }
 },
 "nbformat": 4,
 "nbformat_minor": 5
}
