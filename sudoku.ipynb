{
 "cells": [
  {
   "cell_type": "code",
   "execution_count": 10,
   "id": "334f467b",
   "metadata": {},
   "outputs": [
    {
     "name": "stdout",
     "output_type": "stream",
     "text": [
      "The autoreload extension is already loaded. To reload it, use:\n",
      "  %reload_ext autoreload\n"
     ]
    }
   ],
   "source": [
    "%load_ext autoreload\n",
    "%autoreload 2"
   ]
  },
  {
   "cell_type": "code",
   "execution_count": 11,
   "id": "9a02f5ab",
   "metadata": {},
   "outputs": [],
   "source": [
    "from sudoku import solveSudokuBitwise, solveSudoku, solveSudokuOptimized"
   ]
  },
  {
   "cell_type": "code",
   "execution_count": 12,
   "id": "0d8e3b89",
   "metadata": {},
   "outputs": [],
   "source": [
    "def generate_board():\n",
    "    return [\n",
    "        [0, 2, 0, 0, 9, 0, 1, 0, 0],\n",
    "        [0, 0, 7, 8, 0, 0, 0, 0, 0],\n",
    "        [0, 0, 0, 0, 0, 0, 3, 6, 0],\n",
    "        [0, 0, 1, 9, 0, 4, 0, 0, 0],\n",
    "        [0, 0, 0, 6, 0, 5, 0, 0, 7],\n",
    "        [8, 0, 0, 0, 0, 0, 0, 0, 9],\n",
    "        [0, 0, 0, 0, 2, 0, 0, 0, 0],\n",
    "        [7, 0, 0, 0, 0, 0, 0, 8, 5],\n",
    "        [4, 9, 0, 0, 3, 0, 0, 0, 0],\n",
    "    ]"
   ]
  },
  {
   "cell_type": "code",
   "execution_count": 13,
   "id": "326cda59",
   "metadata": {},
   "outputs": [
    {
     "data": {
      "text/plain": [
       "[[5, 2, 4, 3, 9, 6, 1, 7, 8],\n",
       " [3, 6, 7, 8, 4, 1, 9, 5, 2],\n",
       " [1, 8, 9, 7, 5, 2, 3, 6, 4],\n",
       " [2, 5, 1, 9, 7, 4, 8, 3, 6],\n",
       " [9, 4, 3, 6, 8, 5, 2, 1, 7],\n",
       " [8, 7, 6, 2, 1, 3, 5, 4, 9],\n",
       " [6, 1, 5, 4, 2, 8, 7, 9, 3],\n",
       " [7, 3, 2, 1, 6, 9, 4, 8, 5],\n",
       " [4, 9, 8, 5, 3, 7, 6, 2, 1]]"
      ]
     },
     "execution_count": 13,
     "metadata": {},
     "output_type": "execute_result"
    }
   ],
   "source": [
    "solveSudoku(generate_board())"
   ]
  },
  {
   "cell_type": "code",
   "execution_count": 14,
   "id": "5477b27d",
   "metadata": {},
   "outputs": [
    {
     "data": {
      "text/plain": [
       "[[5, 2, 4, 3, 9, 6, 1, 7, 8],\n",
       " [3, 6, 7, 8, 4, 1, 9, 5, 2],\n",
       " [1, 8, 9, 7, 5, 2, 3, 6, 4],\n",
       " [2, 5, 1, 9, 7, 4, 8, 3, 6],\n",
       " [9, 4, 3, 6, 8, 5, 2, 1, 7],\n",
       " [8, 7, 6, 2, 1, 3, 5, 4, 9],\n",
       " [6, 1, 5, 4, 2, 8, 7, 9, 3],\n",
       " [7, 3, 2, 1, 6, 9, 4, 8, 5],\n",
       " [4, 9, 8, 5, 3, 7, 6, 2, 1]]"
      ]
     },
     "execution_count": 14,
     "metadata": {},
     "output_type": "execute_result"
    }
   ],
   "source": [
    "solveSudokuBitwise(generate_board())"
   ]
  },
  {
   "cell_type": "code",
   "execution_count": 15,
   "id": "ac979d81",
   "metadata": {},
   "outputs": [
    {
     "data": {
      "text/plain": [
       "[[5, 2, 4, 3, 9, 6, 1, 7, 8],\n",
       " [3, 6, 7, 8, 4, 1, 9, 5, 2],\n",
       " [1, 8, 9, 7, 5, 2, 3, 6, 4],\n",
       " [2, 5, 1, 9, 7, 4, 8, 3, 6],\n",
       " [9, 4, 3, 6, 8, 5, 2, 1, 7],\n",
       " [8, 7, 6, 2, 1, 3, 5, 4, 9],\n",
       " [6, 1, 5, 4, 2, 8, 7, 9, 3],\n",
       " [7, 3, 2, 1, 6, 9, 4, 8, 5],\n",
       " [4, 9, 8, 5, 3, 7, 6, 2, 1]]"
      ]
     },
     "execution_count": 15,
     "metadata": {},
     "output_type": "execute_result"
    }
   ],
   "source": [
    "solveSudokuOptimized(generate_board())"
   ]
  },
  {
   "cell_type": "code",
   "execution_count": 16,
   "id": "03c5179a",
   "metadata": {},
   "outputs": [
    {
     "name": "stdout",
     "output_type": "stream",
     "text": [
      "49 ms ± 1.39 ms per loop (mean ± std. dev. of 7 runs, 10 loops each)\n"
     ]
    }
   ],
   "source": [
    "%timeit solveSudoku(generate_board())"
   ]
  },
  {
   "cell_type": "code",
   "execution_count": 17,
   "id": "9cee61fe",
   "metadata": {},
   "outputs": [
    {
     "name": "stdout",
     "output_type": "stream",
     "text": [
      "14.7 ms ± 184 μs per loop (mean ± std. dev. of 7 runs, 100 loops each)\n"
     ]
    }
   ],
   "source": [
    "%timeit solveSudokuBitwise(generate_board())"
   ]
  },
  {
   "cell_type": "code",
   "execution_count": 18,
   "id": "1abfad87",
   "metadata": {},
   "outputs": [
    {
     "name": "stdout",
     "output_type": "stream",
     "text": [
      "6.27 ms ± 145 μs per loop (mean ± std. dev. of 7 runs, 100 loops each)\n"
     ]
    }
   ],
   "source": [
    "%timeit solveSudokuOptimized(generate_board())"
   ]
  }
 ],
 "metadata": {
  "kernelspec": {
   "display_name": ".venv",
   "language": "python",
   "name": "python3"
  },
  "language_info": {
   "codemirror_mode": {
    "name": "ipython",
    "version": 3
   },
   "file_extension": ".py",
   "mimetype": "text/x-python",
   "name": "python",
   "nbconvert_exporter": "python",
   "pygments_lexer": "ipython3",
   "version": "3.13.3"
  }
 },
 "nbformat": 4,
 "nbformat_minor": 5
}
